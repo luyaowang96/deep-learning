{
 "cells": [
  {
   "cell_type": "code",
   "execution_count": 7,
   "metadata": {},
   "outputs": [],
   "source": [
    "import tensorflow as tf\n",
    "import numpy as np\n",
    "import warnings\n",
    "\n",
    "warnings.filterwarnings('ignore')"
   ]
  },
  {
   "cell_type": "code",
   "execution_count": 8,
   "metadata": {},
   "outputs": [
    {
     "name": "stdout",
     "output_type": "stream",
     "text": [
      "Extracting ./MNIST_data/train-images-idx3-ubyte.gz\n",
      "Extracting ./MNIST_data/train-labels-idx1-ubyte.gz\n",
      "Extracting ./MNIST_data/t10k-images-idx3-ubyte.gz\n",
      "Extracting ./MNIST_data/t10k-labels-idx1-ubyte.gz\n"
     ]
    }
   ],
   "source": [
    "from tensorflow.examples.tutorials.mnist import input_data\n",
    "data = input_data.read_data_sets('./MNIST_data/',one_hot=True,reshape=False) #载入MNIST数据集，如果指定地址下没有下载好的数据，那么TensorFlow会自动在网站上下载数据"
   ]
  },
  {
   "cell_type": "markdown",
   "metadata": {},
   "source": [
    "# 搭建函数\n",
    "* 设置参数（lr，epoch，batch，n_hidden_layer,input_size,n_classes)\n",
    "* 定义参数"
   ]
  },
  {
   "cell_type": "code",
   "execution_count": 9,
   "metadata": {},
   "outputs": [],
   "source": [
    "# 设置参数\n",
    "lr = 0.05\n",
    "epochs = 10\n",
    "batch = 128\n",
    "n_hidden_layer = 256\n",
    "\n",
    "input_size = 784\n",
    "n_classes = 10"
   ]
  },
  {
   "cell_type": "code",
   "execution_count": 22,
   "metadata": {},
   "outputs": [],
   "source": [
    "# 设置权重\n",
    "weights = {\n",
    "    'hidden_layer':tf.Variable(tf.random_normal([input_size,n_hidden_layer])),\n",
    "    'out':tf.Variable(tf.random_normal([n_hidden_layer,n_classes]))\n",
    "}\n",
    "biases = {\n",
    "    'hidden_layer':tf.Variable(tf.random_normal([n_hidden_layer])),\n",
    "    'out':tf.Variable(tf.random_normal([n_classes]))\n",
    "}"
   ]
  },
  {
   "cell_type": "code",
   "execution_count": 23,
   "metadata": {},
   "outputs": [],
   "source": [
    "# 设置占位符\n",
    "x = tf.placeholder(tf.float32,[None,28,28,1])\n",
    "y = tf.placeholder(tf.float32,[None,n_classes])\n",
    "\n",
    "x_flat = tf.reshape(x,[-1,input_size])"
   ]
  },
  {
   "cell_type": "code",
   "execution_count": 24,
   "metadata": {},
   "outputs": [],
   "source": [
    "# 搭建模型：线性+relu--》前向传播\n",
    "\n",
    "layer1 = tf.add(tf.matmul(x_flat,weights['hidden_layer']),biases['hidden_layer'])\n",
    "relu_out = tf.nn.relu(layer1)\n",
    "layer2 = tf.add(tf.matmul(relu_out,weights['out']),biases['out'])\n"
   ]
  },
  {
   "cell_type": "code",
   "execution_count": 25,
   "metadata": {},
   "outputs": [],
   "source": [
    "# 设置优化器 --》反向传播\n",
    "cost = tf.reduce_mean(tf.nn.softmax_cross_entropy_with_logits(logits=layer2,labels=y))\n",
    "optim = tf.train.GradientDescentOptimizer(learning_rate=lr).minimize(cost)"
   ]
  },
  {
   "cell_type": "code",
   "execution_count": 26,
   "metadata": {},
   "outputs": [],
   "source": [
    "# save \n",
    "save_path = './MNIST_data/twoLayerModel.ckpt'\n",
    "saver = tf.train.Saver() # 用于存储variable，在会话关闭前使用"
   ]
  },
  {
   "cell_type": "code",
   "execution_count": 27,
   "metadata": {},
   "outputs": [],
   "source": [
    "# 设置会话，利用Mini-batch搭建\n",
    "init = tf.global_variables_initializer()\n",
    "\n",
    "with tf.Session() as sess:\n",
    "    sess.run(init)\n",
    "    for epoch in range(epochs):\n",
    "        batch_size = int(data.train.num_examples/batch)\n",
    "        for i in range(batch_size):\n",
    "            batch_x,batch_y = data.train.next_batch(batch)\n",
    "            sess.run(optim,feed_dict={x:batch_x,y:batch_y})\n",
    "    saver.save(sess,save_path)"
   ]
  },
  {
   "cell_type": "code",
   "execution_count": 29,
   "metadata": {},
   "outputs": [
    {
     "name": "stdout",
     "output_type": "stream",
     "text": [
      "INFO:tensorflow:Restoring parameters from ./MNIST_data/twoLayerModel.ckpt\n",
      "weights:\n",
      "\n",
      "[[-0.1087328  -0.5509199   0.60655576 ...  0.81665146 -0.6265526\n",
      "  -0.02853541]\n",
      " [-0.05089313 -0.27206516 -0.09355816 ... -0.54513437 -0.01447545\n",
      "   1.3493054 ]\n",
      " [ 0.99768186 -1.2211367  -0.04995759 ...  0.2425555   0.01890043\n",
      "   0.6106119 ]\n",
      " ...\n",
      " [-1.0128969   0.5856892   1.0851734  ...  1.3783652   1.0268177\n",
      "  -0.5786132 ]\n",
      " [-1.4061098  -1.6357385  -0.39493576 ...  0.0634276  -0.5166831\n",
      "  -0.23630835]\n",
      " [-1.1995931   0.57059574 -1.047938   ...  0.47136942 -0.28206798\n",
      "   0.31887034]]\n",
      "bias\n",
      "\n",
      "[-2.3535817   0.836574   -0.28394     0.9501009   0.2184424  -0.8735214\n",
      " -0.36764616 -1.0580937  -1.1100044   1.6602883 ]\n"
     ]
    }
   ],
   "source": [
    "with tf.Session() as sess:\n",
    "    saver.restore(sess,save_path)\n",
    "    print('weights:\\n')\n",
    "    print(sess.run(weights['out']))\n",
    "    print('bias\\n')\n",
    "    print(sess.run(biases['out']))"
   ]
  },
  {
   "cell_type": "code",
   "execution_count": null,
   "metadata": {},
   "outputs": [],
   "source": []
  }
 ],
 "metadata": {
  "kernelspec": {
   "display_name": "Python 3",
   "language": "python",
   "name": "python3"
  },
  "language_info": {
   "codemirror_mode": {
    "name": "ipython",
    "version": 3
   },
   "file_extension": ".py",
   "mimetype": "text/x-python",
   "name": "python",
   "nbconvert_exporter": "python",
   "pygments_lexer": "ipython3",
   "version": "3.7.3"
  }
 },
 "nbformat": 4,
 "nbformat_minor": 2
}
